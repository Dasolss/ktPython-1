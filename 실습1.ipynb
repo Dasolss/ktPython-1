{
 "cells": [
  {
   "cell_type": "code",
   "execution_count": 3,
   "metadata": {},
   "outputs": [
    {
     "name": "stdout",
     "output_type": "stream",
     "text": [
      "안녕하세요? 강다솔님.\n"
     ]
    }
   ],
   "source": [
    "name = input('이름을 입력하세요 :')\n",
    "print(f'안녕하세요? {name}님.')"
   ]
  },
  {
   "cell_type": "code",
   "execution_count": null,
   "metadata": {},
   "outputs": [],
   "source": [
    "length = input('정사각형의 한 변의 길이를 입력하세요.:')\n",
    "print(f'정사각형의 넓이는 {int(length)**2}입니다.')"
   ]
  },
  {
   "cell_type": "code",
   "execution_count": null,
   "metadata": {},
   "outputs": [],
   "source": [
    "print('세 정수의 최댓값을 구합니다.')\n",
    "a = int(input('정수 a의 값을 입력하세요. :'))\n",
    "b = int(input('정수 b의 값을 입력하세요. :'))\n",
    "c = int(input('정수 c의 값을 입력하세요. :'))\n",
    "\n",
    "maximum = a\n",
    "\n",
    "if b > maximum:\n",
    "    maximum = b\n",
    "elif c > maximum:\n",
    "    maximum = c\n",
    "\n",
    "print(f'최댓값은 {maximum}입니다.')"
   ]
  },
  {
   "cell_type": "code",
   "execution_count": 4,
   "metadata": {},
   "outputs": [
    {
     "name": "stdout",
     "output_type": "stream",
     "text": [
      "네 정수의 최댓값을 구합니다.\n",
      "최댓값은 96입니다.\n"
     ]
    }
   ],
   "source": [
    "print('네 정수의 최댓값을 구합니다.')\n",
    "a = int(input('정수 a의 값을 입력하세요. :'))\n",
    "b = int(input('정수 b의 값을 입력하세요. :'))\n",
    "c = int(input('정수 c의 값을 입력하세요. :'))\n",
    "d = int(input('정수 d의 값을 입력하세요. :'))\n",
    "\n",
    "maximum = a\n",
    "\n",
    "if b > maximum:\n",
    "    maximum = b\n",
    "if c > maximum:\n",
    "    maximum = c\n",
    "if d > maximum:\n",
    "    maximum = d\n",
    "\n",
    "print(f'최댓값은 {maximum}입니다.')"
   ]
  },
  {
   "cell_type": "code",
   "execution_count": null,
   "metadata": {},
   "outputs": [],
   "source": []
  },
  {
   "cell_type": "code",
   "execution_count": null,
   "metadata": {},
   "outputs": [],
   "source": []
  }
 ],
 "metadata": {
  "kernelspec": {
   "display_name": "Python 3",
   "language": "python",
   "name": "python3"
  },
  "language_info": {
   "codemirror_mode": {
    "name": "ipython",
    "version": 3
   },
   "file_extension": ".py",
   "mimetype": "text/x-python",
   "name": "python",
   "nbconvert_exporter": "python",
   "pygments_lexer": "ipython3",
   "version": "3.10.9"
  },
  "orig_nbformat": 4,
  "vscode": {
   "interpreter": {
    "hash": "afb734500600fd355917ca529030176ea0ca205570884b88f2f6f7d791fd3fbe"
   }
  }
 },
 "nbformat": 4,
 "nbformat_minor": 2
}

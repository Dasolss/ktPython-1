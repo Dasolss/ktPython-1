{
 "cells": [
  {
   "cell_type": "code",
   "execution_count": 3,
   "metadata": {},
   "outputs": [
    {
     "name": "stdout",
     "output_type": "stream",
     "text": [
      "안녕하세요? 강다솔님.\n"
     ]
    }
   ],
   "source": [
    "name = input('이름을 입력하세요 :')\n",
    "print(f'안녕하세요? {name}님.')"
   ]
  },
  {
   "cell_type": "code",
   "execution_count": 6,
   "metadata": {},
   "outputs": [
    {
     "name": "stdout",
     "output_type": "stream",
     "text": [
      "정사각형의 넓이는 25입니다.\n"
     ]
    }
   ],
   "source": [
    "length = input('정사각형의 한 변의 길이를 입력하세요.:')\n",
    "print(f'정사각형의 넓이는 {int(length)**2}입니다.')"
   ]
  },
  {
   "cell_type": "code",
   "execution_count": 8,
   "metadata": {},
   "outputs": [
    {
     "name": "stdout",
     "output_type": "stream",
     "text": [
      "세 정수의 최댓값을 구합니다.\n",
      "최댓값은 3입니다.\n"
     ]
    }
   ],
   "source": [
    "print('세 정수의 최댓값을 구합니다.')\n",
    "a = int(input('정수 a의 값을 입력하세요. :'))\n",
    "b = int(input('정수 b의 값을 입력하세요. :'))\n",
    "c = int(input('정수 c의 값을 입력하세요. :'))\n",
    "\n",
    "maximum = a\n",
    "\n",
    "if b > maximum:\n",
    "    maximum = b\n",
    "if c > maximum:\n",
    "    maximum = c\n",
    "\n",
    "print(f'최댓값은 {maximum}입니다.')"
   ]
  },
  {
   "cell_type": "code",
   "execution_count": 4,
   "metadata": {},
   "outputs": [
    {
     "name": "stdout",
     "output_type": "stream",
     "text": [
      "네 정수의 최댓값을 구합니다.\n",
      "최댓값은 96입니다.\n"
     ]
    }
   ],
   "source": [
    "print('네 정수의 최댓값을 구합니다.')\n",
    "a = int(input('정수 a의 값을 입력하세요. :'))\n",
    "b = int(input('정수 b의 값을 입력하세요. :'))\n",
    "c = int(input('정수 c의 값을 입력하세요. :'))\n",
    "d = int(input('정수 d의 값을 입력하세요. :'))\n",
    "\n",
    "maximum = a\n",
    "\n",
    "if b > maximum:\n",
    "    maximum = b\n",
    "if c > maximum:\n",
    "    maximum = c\n",
    "if d > maximum:\n",
    "    maximum = d\n",
    "\n",
    "print(f'최댓값은 {maximum}입니다.')"
   ]
  },
  {
   "cell_type": "code",
   "execution_count": 5,
   "metadata": {},
   "outputs": [
    {
     "name": "stdout",
     "output_type": "stream",
     "text": [
      "세 정수의 중앙값을 구합니다.\n",
      "중앙값은 2입니다.\n"
     ]
    }
   ],
   "source": [
    "def med3(a,b,c):\n",
    "    if a >= b:\n",
    "        if b >= c:\n",
    "            return b\n",
    "        elif a <= c:\n",
    "            return a\n",
    "        else:\n",
    "            return c\n",
    "    \n",
    "    elif a > c:\n",
    "        return a\n",
    "    elif b > c :\n",
    "        return c\n",
    "    else:\n",
    "        return b\n",
    "\n",
    "print('세 정수의 중앙값을 구합니다.')\n",
    "a = int(input('정수 a의 값을 입력하세요. :'))\n",
    "b = int(input('정수 b의 값을 입력하세요. :'))\n",
    "c = int(input('정수 c의 값을 입력하세요. :'))\n",
    "\n",
    "print(f'중앙값은 {med3(a,b,c)}입니다.')"
   ]
  },
  {
   "cell_type": "code",
   "execution_count": 14,
   "metadata": {},
   "outputs": [
    {
     "name": "stdout",
     "output_type": "stream",
     "text": [
      "회사를 잘못 입력하셨습니다.\n"
     ]
    }
   ],
   "source": [
    "company = input(\"사용하는 수도 회사를 입력하시오 : \")\n",
    "\n",
    "pay = 0\n",
    "\n",
    "if company == 'A':\n",
    "    water = int(input(\"수도 사용량을 입력하시오 : (리터 단위)\"))\n",
    "    pay = water * 100\n",
    "    print(f'내야할 요금은 {pay}원 입니다.')\n",
    "    \n",
    "elif company == 'B':\n",
    "    if water > 50:\n",
    "        water = int(input(\"수도 사용량을 입력하시오 : (리터 단위)\"))\n",
    "        pay = water * 75\n",
    "        print(f'내야할 요금은 {pay}원 입니다.')\n",
    "        \n",
    "    else:\n",
    "        water = int(input(\"수도 사용량을 입력하시오 : (리터 단위)\"))\n",
    "        pay = water * 150\n",
    "        print(f'내야할 요금은 {pay}원 입니다.')\n",
    "\n",
    "else:\n",
    "    print(\"회사를 잘못 입력하셨습니다.\")\n"
   ]
  },
  {
   "cell_type": "code",
   "execution_count": 23,
   "metadata": {},
   "outputs": [
    {
     "name": "stdout",
     "output_type": "stream",
     "text": [
      "a부터 b까지 정수의 합을 구합니다.\n",
      "4 + 5 = 9\n"
     ]
    }
   ],
   "source": [
    "print('a부터 b까지 정수의 합을 구합니다.')\n",
    "\n",
    "a = int(input('정수 a를 입력하세요.: '))\n",
    "b = int(input('정수 b를 입력하세요.: '))\n",
    "\n",
    "if a > b:\n",
    "    a, b = b, a\n",
    "    \n",
    "sum = 0\n",
    "\n",
    "for i in range(a, b+1):\n",
    "    if i < b:\n",
    "        print(f'{i} + ', end='')\n",
    "    else:\n",
    "        print(f'{i} = ', end='')\n",
    "    sum +=i\n",
    "\n",
    "print(sum)"
   ]
  },
  {
   "cell_type": "code",
   "execution_count": 22,
   "metadata": {},
   "outputs": [
    {
     "name": "stdout",
     "output_type": "stream",
     "text": [
      "a부터 b까지 정수의 합을 구합니다.\n",
      "4 + 5 = 9\n"
     ]
    }
   ],
   "source": [
    "print('a부터 b까지 정수의 합을 구합니다.')\n",
    "\n",
    "a = int(input('정수 a를 입력하세요.: '))\n",
    "b = int(input('정수 b를 입력하세요.: '))\n",
    "\n",
    "if a > b:\n",
    "    a, b = b, a\n",
    "    \n",
    "sum = 0\n",
    "\n",
    "for i in range(a, b+1):\n",
    "    if i < b:\n",
    "        print(f'{i} + ', end='')\n",
    "    sum +=i\n",
    "\n",
    "print(f'{i} = ', end = '')\n",
    "\n",
    "print(sum)"
   ]
  }
 ],
 "metadata": {
  "kernelspec": {
   "display_name": "Python 3",
   "language": "python",
   "name": "python3"
  },
  "language_info": {
   "codemirror_mode": {
    "name": "ipython",
    "version": 3
   },
   "file_extension": ".py",
   "mimetype": "text/x-python",
   "name": "python",
   "nbconvert_exporter": "python",
   "pygments_lexer": "ipython3",
   "version": "3.10.9"
  },
  "orig_nbformat": 4,
  "vscode": {
   "interpreter": {
    "hash": "afb734500600fd355917ca529030176ea0ca205570884b88f2f6f7d791fd3fbe"
   }
  }
 },
 "nbformat": 4,
 "nbformat_minor": 2
}

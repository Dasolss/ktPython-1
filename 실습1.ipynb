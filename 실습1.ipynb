{
 "cells": [
  {
   "cell_type": "code",
   "execution_count": 3,
   "metadata": {},
   "outputs": [
    {
     "name": "stdout",
     "output_type": "stream",
     "text": [
      "안녕하세요? 강다솔님.\n"
     ]
    }
   ],
   "source": [
    "name = input('이름을 입력하세요 :')\n",
    "print(f'안녕하세요? {name}님.')"
   ]
  },
  {
   "cell_type": "code",
   "execution_count": 6,
   "metadata": {},
   "outputs": [
    {
     "name": "stdout",
     "output_type": "stream",
     "text": [
      "정사각형의 넓이는 25입니다.\n"
     ]
    }
   ],
   "source": [
    "length = input('정사각형의 한 변의 길이를 입력하세요.:')\n",
    "print(f'정사각형의 넓이는 {int(length)**2}입니다.')"
   ]
  },
  {
   "cell_type": "code",
   "execution_count": 8,
   "metadata": {},
   "outputs": [
    {
     "name": "stdout",
     "output_type": "stream",
     "text": [
      "세 정수의 최댓값을 구합니다.\n",
      "최댓값은 3입니다.\n"
     ]
    }
   ],
   "source": [
    "print('세 정수의 최댓값을 구합니다.')\n",
    "a = int(input('정수 a의 값을 입력하세요. :'))\n",
    "b = int(input('정수 b의 값을 입력하세요. :'))\n",
    "c = int(input('정수 c의 값을 입력하세요. :'))\n",
    "\n",
    "maximum = a\n",
    "\n",
    "if b > maximum:\n",
    "    maximum = b\n",
    "if c > maximum:\n",
    "    maximum = c\n",
    "\n",
    "print(f'최댓값은 {maximum}입니다.')"
   ]
  },
  {
   "cell_type": "code",
   "execution_count": 4,
   "metadata": {},
   "outputs": [
    {
     "name": "stdout",
     "output_type": "stream",
     "text": [
      "네 정수의 최댓값을 구합니다.\n",
      "최댓값은 96입니다.\n"
     ]
    }
   ],
   "source": [
    "print('네 정수의 최댓값을 구합니다.')\n",
    "a = int(input('정수 a의 값을 입력하세요. :'))\n",
    "b = int(input('정수 b의 값을 입력하세요. :'))\n",
    "c = int(input('정수 c의 값을 입력하세요. :'))\n",
    "d = int(input('정수 d의 값을 입력하세요. :'))\n",
    "\n",
    "maximum = a\n",
    "\n",
    "if b > maximum:\n",
    "    maximum = b\n",
    "if c > maximum:\n",
    "    maximum = c\n",
    "if d > maximum:\n",
    "    maximum = d\n",
    "\n",
    "print(f'최댓값은 {maximum}입니다.')"
   ]
  },
  {
   "cell_type": "code",
   "execution_count": 5,
   "metadata": {},
   "outputs": [
    {
     "name": "stdout",
     "output_type": "stream",
     "text": [
      "세 정수의 중앙값을 구합니다.\n",
      "중앙값은 2입니다.\n"
     ]
    }
   ],
   "source": [
    "def med3(a,b,c):\n",
    "    if a >= b:\n",
    "        if b >= c:\n",
    "            return b\n",
    "        elif a <= c:\n",
    "            return a\n",
    "        else:\n",
    "            return c\n",
    "    \n",
    "    elif a > c:\n",
    "        return a\n",
    "    elif b > c :\n",
    "        return c\n",
    "    else:\n",
    "        return b\n",
    "\n",
    "print('세 정수의 중앙값을 구합니다.')\n",
    "a = int(input('정수 a의 값을 입력하세요. :'))\n",
    "b = int(input('정수 b의 값을 입력하세요. :'))\n",
    "c = int(input('정수 c의 값을 입력하세요. :'))\n",
    "\n",
    "print(f'중앙값은 {med3(a,b,c)}입니다.')"
   ]
  },
  {
   "cell_type": "code",
   "execution_count": 14,
   "metadata": {},
   "outputs": [
    {
     "name": "stdout",
     "output_type": "stream",
     "text": [
      "회사를 잘못 입력하셨습니다.\n"
     ]
    }
   ],
   "source": [
    "company = input(\"사용하는 수도 회사를 입력하시오 : \")\n",
    "\n",
    "pay = 0\n",
    "\n",
    "if company == 'A':\n",
    "    water = int(input(\"수도 사용량을 입력하시오 : (리터 단위)\"))\n",
    "    pay = water * 100\n",
    "    print(f'내야할 요금은 {pay}원 입니다.')\n",
    "    \n",
    "elif company == 'B':\n",
    "    if water > 50:\n",
    "        water = int(input(\"수도 사용량을 입력하시오 : (리터 단위)\"))\n",
    "        pay = water * 75\n",
    "        print(f'내야할 요금은 {pay}원 입니다.')\n",
    "        \n",
    "    else:\n",
    "        water = int(input(\"수도 사용량을 입력하시오 : (리터 단위)\"))\n",
    "        pay = water * 150\n",
    "        print(f'내야할 요금은 {pay}원 입니다.')\n",
    "\n",
    "else:\n",
    "    print(\"회사를 잘못 입력하셨습니다.\")\n"
   ]
  },
  {
   "cell_type": "code",
   "execution_count": 23,
   "metadata": {},
   "outputs": [
    {
     "name": "stdout",
     "output_type": "stream",
     "text": [
      "a부터 b까지 정수의 합을 구합니다.\n",
      "4 + 5 = 9\n"
     ]
    }
   ],
   "source": [
    "print('a부터 b까지 정수의 합을 구합니다.')\n",
    "\n",
    "a = int(input('정수 a를 입력하세요.: '))\n",
    "b = int(input('정수 b를 입력하세요.: '))\n",
    "\n",
    "if a > b:\n",
    "    a, b = b, a\n",
    "    \n",
    "sum = 0\n",
    "\n",
    "for i in range(a, b+1):\n",
    "    if i < b:\n",
    "        print(f'{i} + ', end='')\n",
    "    else:\n",
    "        print(f'{i} = ', end='')\n",
    "    sum +=i\n",
    "\n",
    "print(sum)"
   ]
  },
  {
   "cell_type": "code",
   "execution_count": 22,
   "metadata": {},
   "outputs": [
    {
     "name": "stdout",
     "output_type": "stream",
     "text": [
      "a부터 b까지 정수의 합을 구합니다.\n",
      "4 + 5 = 9\n"
     ]
    }
   ],
   "source": [
    "print('a부터 b까지 정수의 합을 구합니다.')\n",
    "\n",
    "a = int(input('정수 a를 입력하세요.: '))\n",
    "b = int(input('정수 b를 입력하세요.: '))\n",
    "\n",
    "if a > b:\n",
    "    a, b = b, a\n",
    "    \n",
    "sum = 0\n",
    "\n",
    "for i in range(a, b+1):\n",
    "    if i < b:\n",
    "        print(f'{i} + ', end='')\n",
    "    sum +=i\n",
    "\n",
    "print(f'{i} = ', end = '')\n",
    "\n",
    "print(sum)"
   ]
  },
  {
   "cell_type": "code",
   "execution_count": 25,
   "metadata": {},
   "outputs": [
    {
     "name": "stdout",
     "output_type": "stream",
     "text": [
      "1 x 32\n",
      "2 x 16\n",
      "4 x 8\n"
     ]
    }
   ],
   "source": [
    "# 가로, 세로 길이가 정수이고 넓이가 area인 직사각형에서 가능한 변의 길이 나열\n",
    "\n",
    "area = int(input('직사각형의 넓이를 입력하세요.: '))\n",
    "\n",
    "for i in range(1, area + 1):\n",
    "    if i * i > area: break       \n",
    "    if area % i: continue\n",
    "    print(f'{i} x {area // i}')"
   ]
  },
  {
   "cell_type": "code",
   "execution_count": 31,
   "metadata": {},
   "outputs": [
    {
     "name": "stdout",
     "output_type": "stream",
     "text": [
      "1 x 32\n",
      "2 x 16\n",
      "4 x 8\n",
      "8 x 4\n",
      "16 x 2\n",
      "32 x 1\n"
     ]
    }
   ],
   "source": [
    "# 가로, 세로 길이가 정수이고 넓이가 area인 직사각형에서 가능한 변의 길이 나열\n",
    "\n",
    "area = int(input('직사각형의 넓이를 입력하세요.: '))\n",
    "\n",
    "for i in range(1, area + 1):\n",
    "    if area % i: \n",
    "        continue\n",
    "    \n",
    "    print(f'{i} x {area // i}')"
   ]
  },
  {
   "cell_type": "code",
   "execution_count": 49,
   "metadata": {},
   "outputs": [
    {
     "name": "stdout",
     "output_type": "stream",
     "text": [
      "현재 전기 요금은 30193원 입니다.\n"
     ]
    }
   ],
   "source": [
    "def electricPay():\n",
    "    kwh = int(input('전기사용량을 입력하세요(kWh 단위) : '))\n",
    "    \n",
    "    if kwh > 200:\n",
    "        np = 1600\n",
    "    elif kwh >= 100:\n",
    "        np = 910\n",
    "    elif kwh < 100:\n",
    "        np = 410\n",
    "    \n",
    "    if kwh <= 100:\n",
    "        price = (kwh * 60.7) + np\n",
    "    elif kwh > 100:\n",
    "        price = (100 * 60.7) + ((kwh-100) * 125.9) + np\n",
    "    else:\n",
    "        price = (100 * 60.7) + (100 * 125.9) + ((kwh-200) * 187.9) + np\n",
    "        \n",
    "    price = price + (price * 0.1) + (price * 0.037)\n",
    "    \n",
    "    return price\n",
    "\n",
    "print(f'현재 전기 요금은 {int(electricPay())}원 입니다.')\n",
    "    \n",
    "\n",
    "        "
   ]
  },
  {
   "cell_type": "code",
   "execution_count": 55,
   "metadata": {},
   "outputs": [
    {
     "name": "stdout",
     "output_type": "stream",
     "text": [
      "+ 와 -를 번갈아 출력합니다.\n",
      "+-+-+-+-+-+-+-"
     ]
    }
   ],
   "source": [
    "print('+ 와 -를 번갈아 출력합니다.')\n",
    "number = int(input('몇 개를 출력할까요? : '))\n",
    "n = number // 2\n",
    "\n",
    "for i in range(0, n):\n",
    "    print('+-', end = '')"
   ]
  },
  {
   "cell_type": "code",
   "execution_count": 56,
   "metadata": {},
   "outputs": [
    {
     "name": "stdout",
     "output_type": "stream",
     "text": [
      "+ 와 -를 번갈아 출력합니다.\n",
      "+-+-+-+-+-+-"
     ]
    }
   ],
   "source": [
    "print('+ 와 -를 번갈아 출력합니다.')\n",
    "number = int(input('몇 개를 출력할까요? : '))\n",
    "\n",
    "i = 0\n",
    "\n",
    "while(True):\n",
    "    print(\"+\", end = '')\n",
    "    print(\"-\", end = '')\n",
    "    i = i + 1\n",
    "    0if i == number//2:\n",
    "        break"
   ]
  },
  {
   "cell_type": "code",
   "execution_count": 58,
   "metadata": {},
   "outputs": [
    {
     "name": "stdout",
     "output_type": "stream",
     "text": [
      "1 2 3 4 5 6 7 9 10 11 12 "
     ]
    }
   ],
   "source": [
    "#1부터 12까지를 for loop를 활용하여 출력하는데, 8은 건너뛰고 출력하라.\n",
    "\n",
    "for i in range(1,13):\n",
    "    if i == 8:\n",
    "        continue\n",
    "    \n",
    "    print(f'{i}', end = ' ')\n",
    "    "
   ]
  },
  {
   "cell_type": "code",
   "execution_count": null,
   "metadata": {},
   "outputs": [],
   "source": []
  }
 ],
 "metadata": {
  "kernelspec": {
   "display_name": "Python 3",
   "language": "python",
   "name": "python3"
  },
  "language_info": {
   "codemirror_mode": {
    "name": "ipython",
    "version": 3
   },
   "file_extension": ".py",
   "mimetype": "text/x-python",
   "name": "python",
   "nbconvert_exporter": "python",
   "pygments_lexer": "ipython3",
   "version": "3.10.9"
  },
  "orig_nbformat": 4,
  "vscode": {
   "interpreter": {
    "hash": "afb734500600fd355917ca529030176ea0ca205570884b88f2f6f7d791fd3fbe"
   }
  }
 },
 "nbformat": 4,
 "nbformat_minor": 2
}

{
 "cells": [
  {
   "cell_type": "code",
   "execution_count": 11,
   "metadata": {},
   "outputs": [
    {
     "name": "stdout",
     "output_type": "stream",
     "text": [
      "최대공약수를 구하고 싶은 두 정수를 작성하시오.\n",
      "12와 16의 최대 공약수는 4 입니다.\n"
     ]
    }
   ],
   "source": [
    "# 두 정수의 최대공약수\n",
    "\n",
    "answer = 0\n",
    "\n",
    "def solution(a,b):\n",
    "    for i in range(min(a,b),0,-1):\n",
    "        if a % i == 0 and b % i == 0:\n",
    "            answer = i\n",
    "            break\n",
    "    return answer\n",
    "\n",
    "print(\"최대공약수를 구하고 싶은 두 정수를 작성하시오.\")\n",
    "a = int(input('첫번째 정수 : '))\n",
    "b = int(input('두번째 정수 : '))\n",
    "\n",
    "print(f'{a}와 {b}의 최대 공약수는 {solution(a,b)} 입니다.')"
   ]
  },
  {
   "cell_type": "code",
   "execution_count": 15,
   "metadata": {},
   "outputs": [
    {
     "name": "stdout",
     "output_type": "stream",
     "text": [
      "최소공배수를 구하고 싶은 두 정수를 작성하시오.\n",
      "12와 16의 최소 공배수는 48 입니다.\n"
     ]
    }
   ],
   "source": [
    "#두 정수의 최소공배수\n",
    "\n",
    "answer = 0\n",
    "\n",
    "def solution(a,b):\n",
    "    global answer\n",
    "    \n",
    "    for i in range(max(a,b),a*b+1,1):\n",
    "        if i % a == 0 and i % b == 0:\n",
    "            answer = i\n",
    "            break\n",
    "    return answer\n",
    "\n",
    "print(\"최소공배수를 구하고 싶은 두 정수를 작성하시오.\")\n",
    "a = int(input('첫번째 정수 : '))\n",
    "b = int(input('두번째 정수 : '))\n",
    "\n",
    "print(f'{a}와 {b}의 최소 공배수는 {solution(a,b)} 입니다.')"
   ]
  }
 ],
 "metadata": {
  "kernelspec": {
   "display_name": "Python 3",
   "language": "python",
   "name": "python3"
  },
  "language_info": {
   "codemirror_mode": {
    "name": "ipython",
    "version": 3
   },
   "file_extension": ".py",
   "mimetype": "text/x-python",
   "name": "python",
   "nbconvert_exporter": "python",
   "pygments_lexer": "ipython3",
   "version": "3.10.9"
  },
  "orig_nbformat": 4,
  "vscode": {
   "interpreter": {
    "hash": "afb734500600fd355917ca529030176ea0ca205570884b88f2f6f7d791fd3fbe"
   }
  }
 },
 "nbformat": 4,
 "nbformat_minor": 2
}

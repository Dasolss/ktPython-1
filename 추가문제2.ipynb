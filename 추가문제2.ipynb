{
 "cells": [
  {
   "cell_type": "code",
   "execution_count": 11,
   "metadata": {},
   "outputs": [
    {
     "name": "stdout",
     "output_type": "stream",
     "text": [
      "최대공약수를 구하고 싶은 두 정수를 작성하시오.\n",
      "12와 16의 최대 공약수는 4 입니다.\n"
     ]
    }
   ],
   "source": [
    "# 두 정수의 최대공약수\n",
    "\n",
    "answer = 0\n",
    "\n",
    "def solution(a,b):\n",
    "    for i in range(min(a,b),0,-1):\n",
    "        if a % i == 0 and b % i == 0:\n",
    "            answer = i\n",
    "            break\n",
    "    return answer\n",
    "\n",
    "print(\"최대공약수를 구하고 싶은 두 정수를 작성하시오.\")\n",
    "a = int(input('첫번째 정수 : '))\n",
    "b = int(input('두번째 정수 : '))\n",
    "\n",
    "print(f'{a}와 {b}의 최대 공약수는 {solution(a,b)} 입니다.')"
   ]
  },
  {
   "cell_type": "code",
   "execution_count": 16,
   "metadata": {},
   "outputs": [
    {
     "name": "stdout",
     "output_type": "stream",
     "text": [
      "최소공배수를 구하고 싶은 두 정수를 작성하시오.\n",
      "2와 4의 최소 공배수는 4 입니다.\n"
     ]
    }
   ],
   "source": [
    "#두 정수의 최소공배수\n",
    "\n",
    "answer = 0\n",
    "\n",
    "def solution(a,b):\n",
    "    global answer\n",
    "    \n",
    "    for i in range(max(a,b),a*b+1,1):\n",
    "        if i % a == 0 and i % b == 0:\n",
    "            answer = i\n",
    "            break\n",
    "    return answer\n",
    "\n",
    "print(\"최소공배수를 구하고 싶은 두 정수를 작성하시오.\")\n",
    "a = int(input('첫번째 정수 : '))\n",
    "b = int(input('두번째 정수 : '))\n",
    "\n",
    "print(f'{a}와 {b}의 최소 공배수는 {solution(a,b)} 입니다.')"
   ]
  },
  {
   "cell_type": "code",
   "execution_count": 37,
   "metadata": {},
   "outputs": [
    {
     "ename": "KeyboardInterrupt",
     "evalue": "",
     "output_type": "error",
     "traceback": [
      "\u001b[1;31m---------------------------------------------------------------------------\u001b[0m",
      "\u001b[1;31mKeyboardInterrupt\u001b[0m                         Traceback (most recent call last)",
      "Cell \u001b[1;32mIn[37], line 8\u001b[0m\n\u001b[0;32m      5\u001b[0m number \u001b[39m=\u001b[39m \u001b[39m0\u001b[39m\n\u001b[0;32m      6\u001b[0m count \u001b[39m=\u001b[39m \u001b[39m0\u001b[39m\n\u001b[1;32m----> 8\u001b[0m \u001b[39mwhile\u001b[39;00m(\u001b[39mTrue\u001b[39;00m):\n\u001b[0;32m      9\u001b[0m     a \u001b[39m=\u001b[39m score \u001b[39m/\u001b[39m \u001b[39m10\u001b[39m\n\u001b[0;32m     10\u001b[0m     b \u001b[39m=\u001b[39m score \u001b[39m%\u001b[39m \u001b[39m10\u001b[39m\n",
      "\u001b[1;31mKeyboardInterrupt\u001b[0m: "
     ]
    }
   ],
   "source": [
    "score = int(input('정수를 입력하세요 : '))\n",
    "\n",
    "origin = score\n",
    "\n",
    "number = 0\n",
    "count = 0\n",
    "\n",
    "while(True):\n",
    "    a = score / 10\n",
    "    b = score % 10\n",
    "    \n",
    "    number = a + b\n",
    "    \n",
    "    score = (b * 10) + (number%10)\n",
    "    \n",
    "    count = count + 1\n",
    "    if(origin == score):\n",
    "        break\n",
    "\n",
    "print(count)\n",
    "        "
   ]
  }
 ],
 "metadata": {
  "kernelspec": {
   "display_name": "Python 3",
   "language": "python",
   "name": "python3"
  },
  "language_info": {
   "codemirror_mode": {
    "name": "ipython",
    "version": 3
   },
   "file_extension": ".py",
   "mimetype": "text/x-python",
   "name": "python",
   "nbconvert_exporter": "python",
   "pygments_lexer": "ipython3",
   "version": "3.10.9"
  },
  "orig_nbformat": 4,
  "vscode": {
   "interpreter": {
    "hash": "afb734500600fd355917ca529030176ea0ca205570884b88f2f6f7d791fd3fbe"
   }
  }
 },
 "nbformat": 4,
 "nbformat_minor": 2
}
